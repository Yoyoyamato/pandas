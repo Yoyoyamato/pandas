{
 "cells": [
  {
   "cell_type": "markdown",
   "metadata": {},
   "source": [
    "## Using Python as Excel"
   ]
  },
  {
   "cell_type": "markdown",
   "metadata": {},
   "source": [
    "### Description\n",
    "In this file, I will like to introduce basic features you can do using Excel in Python. Excel is a very handy tool, but I believe Python is more flexible and capable of doing more. The following will be the Excel tools that will be expressed in Python.\n",
    "\n",
    "#### Excel tools\n",
    "- Four arithmetic operations (+,-,×,÷)\n",
    "- Functions (SUM, IF, COUNTIF, AVERAGE)\n",
    "- Adavanced Functions (VLOOKUP)\n",
    "- Export Files\n",
    "- Pivot Table\n",
    "- Tables by categories\n",
    "- Graphs\n",
    "- Appliable Software"
   ]
  },
  {
   "cell_type": "code",
   "execution_count": 1,
   "metadata": {},
   "outputs": [],
   "source": [
    "import pandas as pd\n",
    "import numpy as np\n",
    "import matplotlib.pyplot as plt\n",
    "import seaborn as sns"
   ]
  },
  {
   "cell_type": "code",
   "execution_count": 2,
   "metadata": {},
   "outputs": [
    {
     "data": {
      "text/html": [
       "<div>\n",
       "<style scoped>\n",
       "    .dataframe tbody tr th:only-of-type {\n",
       "        vertical-align: middle;\n",
       "    }\n",
       "\n",
       "    .dataframe tbody tr th {\n",
       "        vertical-align: top;\n",
       "    }\n",
       "\n",
       "    .dataframe thead th {\n",
       "        text-align: right;\n",
       "    }\n",
       "</style>\n",
       "<table border=\"1\" class=\"dataframe\">\n",
       "  <thead>\n",
       "    <tr style=\"text-align: right;\">\n",
       "      <th></th>\n",
       "      <th>store_num</th>\n",
       "      <th>year</th>\n",
       "      <th>week</th>\n",
       "      <th>p1_sales</th>\n",
       "      <th>p2_sales</th>\n",
       "      <th>p1_price</th>\n",
       "      <th>p2_price</th>\n",
       "      <th>p1_promo</th>\n",
       "      <th>p2_promo</th>\n",
       "      <th>country</th>\n",
       "    </tr>\n",
       "  </thead>\n",
       "  <tbody>\n",
       "    <tr>\n",
       "      <th>0</th>\n",
       "      <td>101.0</td>\n",
       "      <td>1.0</td>\n",
       "      <td>1.0</td>\n",
       "      <td>122.0</td>\n",
       "      <td>110.0</td>\n",
       "      <td>2.99</td>\n",
       "      <td>2.99</td>\n",
       "      <td>0</td>\n",
       "      <td>1</td>\n",
       "      <td>USA</td>\n",
       "    </tr>\n",
       "    <tr>\n",
       "      <th>1</th>\n",
       "      <td>101.0</td>\n",
       "      <td>1.0</td>\n",
       "      <td>2.0</td>\n",
       "      <td>160.0</td>\n",
       "      <td>79.0</td>\n",
       "      <td>2.49</td>\n",
       "      <td>3.19</td>\n",
       "      <td>0</td>\n",
       "      <td>0</td>\n",
       "      <td>USA</td>\n",
       "    </tr>\n",
       "    <tr>\n",
       "      <th>2</th>\n",
       "      <td>101.0</td>\n",
       "      <td>1.0</td>\n",
       "      <td>3.0</td>\n",
       "      <td>169.0</td>\n",
       "      <td>80.0</td>\n",
       "      <td>2.19</td>\n",
       "      <td>2.99</td>\n",
       "      <td>0</td>\n",
       "      <td>0</td>\n",
       "      <td>USA</td>\n",
       "    </tr>\n",
       "    <tr>\n",
       "      <th>3</th>\n",
       "      <td>101.0</td>\n",
       "      <td>1.0</td>\n",
       "      <td>4.0</td>\n",
       "      <td>119.0</td>\n",
       "      <td>102.0</td>\n",
       "      <td>2.49</td>\n",
       "      <td>2.49</td>\n",
       "      <td>0</td>\n",
       "      <td>0</td>\n",
       "      <td>USA</td>\n",
       "    </tr>\n",
       "    <tr>\n",
       "      <th>4</th>\n",
       "      <td>101.0</td>\n",
       "      <td>1.0</td>\n",
       "      <td>5.0</td>\n",
       "      <td>114.0</td>\n",
       "      <td>143.0</td>\n",
       "      <td>2.49</td>\n",
       "      <td>2.59</td>\n",
       "      <td>0</td>\n",
       "      <td>1</td>\n",
       "      <td>USA</td>\n",
       "    </tr>\n",
       "    <tr>\n",
       "      <th>...</th>\n",
       "      <td>...</td>\n",
       "      <td>...</td>\n",
       "      <td>...</td>\n",
       "      <td>...</td>\n",
       "      <td>...</td>\n",
       "      <td>...</td>\n",
       "      <td>...</td>\n",
       "      <td>...</td>\n",
       "      <td>...</td>\n",
       "      <td>...</td>\n",
       "    </tr>\n",
       "    <tr>\n",
       "      <th>2075</th>\n",
       "      <td>120.0</td>\n",
       "      <td>2.0</td>\n",
       "      <td>48.0</td>\n",
       "      <td>135.0</td>\n",
       "      <td>84.0</td>\n",
       "      <td>2.79</td>\n",
       "      <td>3.19</td>\n",
       "      <td>0</td>\n",
       "      <td>0</td>\n",
       "      <td>CHN</td>\n",
       "    </tr>\n",
       "    <tr>\n",
       "      <th>2076</th>\n",
       "      <td>120.0</td>\n",
       "      <td>2.0</td>\n",
       "      <td>49.0</td>\n",
       "      <td>102.0</td>\n",
       "      <td>95.0</td>\n",
       "      <td>2.79</td>\n",
       "      <td>2.59</td>\n",
       "      <td>0</td>\n",
       "      <td>0</td>\n",
       "      <td>CHN</td>\n",
       "    </tr>\n",
       "    <tr>\n",
       "      <th>2077</th>\n",
       "      <td>120.0</td>\n",
       "      <td>2.0</td>\n",
       "      <td>50.0</td>\n",
       "      <td>112.0</td>\n",
       "      <td>81.0</td>\n",
       "      <td>2.79</td>\n",
       "      <td>2.99</td>\n",
       "      <td>0</td>\n",
       "      <td>0</td>\n",
       "      <td>CHN</td>\n",
       "    </tr>\n",
       "    <tr>\n",
       "      <th>2078</th>\n",
       "      <td>120.0</td>\n",
       "      <td>2.0</td>\n",
       "      <td>51.0</td>\n",
       "      <td>118.0</td>\n",
       "      <td>117.0</td>\n",
       "      <td>2.99</td>\n",
       "      <td>2.99</td>\n",
       "      <td>0</td>\n",
       "      <td>0</td>\n",
       "      <td>CHN</td>\n",
       "    </tr>\n",
       "    <tr>\n",
       "      <th>2079</th>\n",
       "      <td>120.0</td>\n",
       "      <td>2.0</td>\n",
       "      <td>52.0</td>\n",
       "      <td>165.0</td>\n",
       "      <td>77.0</td>\n",
       "      <td>2.49</td>\n",
       "      <td>2.99</td>\n",
       "      <td>1</td>\n",
       "      <td>0</td>\n",
       "      <td>CHN</td>\n",
       "    </tr>\n",
       "  </tbody>\n",
       "</table>\n",
       "<p>2080 rows × 10 columns</p>\n",
       "</div>"
      ],
      "text/plain": [
       "      store_num  year  week  p1_sales  p2_sales  p1_price  p2_price  p1_promo  \\\n",
       "0         101.0   1.0   1.0     122.0     110.0      2.99      2.99         0   \n",
       "1         101.0   1.0   2.0     160.0      79.0      2.49      3.19         0   \n",
       "2         101.0   1.0   3.0     169.0      80.0      2.19      2.99         0   \n",
       "3         101.0   1.0   4.0     119.0     102.0      2.49      2.49         0   \n",
       "4         101.0   1.0   5.0     114.0     143.0      2.49      2.59         0   \n",
       "...         ...   ...   ...       ...       ...       ...       ...       ...   \n",
       "2075      120.0   2.0  48.0     135.0      84.0      2.79      3.19         0   \n",
       "2076      120.0   2.0  49.0     102.0      95.0      2.79      2.59         0   \n",
       "2077      120.0   2.0  50.0     112.0      81.0      2.79      2.99         0   \n",
       "2078      120.0   2.0  51.0     118.0     117.0      2.99      2.99         0   \n",
       "2079      120.0   2.0  52.0     165.0      77.0      2.49      2.99         1   \n",
       "\n",
       "      p2_promo country  \n",
       "0            1     USA  \n",
       "1            0     USA  \n",
       "2            0     USA  \n",
       "3            0     USA  \n",
       "4            1     USA  \n",
       "...        ...     ...  \n",
       "2075         0     CHN  \n",
       "2076         0     CHN  \n",
       "2077         0     CHN  \n",
       "2078         0     CHN  \n",
       "2079         0     CHN  \n",
       "\n",
       "[2080 rows x 10 columns]"
      ]
     },
     "execution_count": 2,
     "metadata": {},
     "output_type": "execute_result"
    }
   ],
   "source": [
    "df = pd.read_csv('product_data.csv')\n",
    "df"
   ]
  },
  {
   "cell_type": "markdown",
   "metadata": {},
   "source": [
    "### Four arithmetic operations (+,-,×,÷)"
   ]
  },
  {
   "cell_type": "code",
   "execution_count": 3,
   "metadata": {},
   "outputs": [],
   "source": [
    "## sales_total: adding the numbers in the p1_sales to p2_sales\n",
    "## price_diff: subtracing the numbers in the p2_price to p1_price\n",
    "## both_promo: multipling the numbers in the p1_promo to p2_promo\n",
    "## p1_unit: dividing the numbers in the p1_sales to p1_price\n",
    "## p2_unit: dividing the numbers in the p2_sales to p2_price"
   ]
  },
  {
   "cell_type": "markdown",
   "metadata": {},
   "source": [
    "### Functions (SUM, IF, COUNTIF, AVERAGE)"
   ]
  },
  {
   "cell_type": "code",
   "execution_count": 4,
   "metadata": {},
   "outputs": [],
   "source": [
    "#### For the following functions, make a seperate dataframe\n",
    "## SUM: sum of p1_sales, p2_sales, p1_promo, p2_promo\n",
    "## COUNTIF: if p1_price > 2.50 and p2_price > 3.50\n",
    "## AVERAGE: average of sales, price, promo"
   ]
  },
  {
   "cell_type": "markdown",
   "metadata": {},
   "source": [
    "### Adavanced Functions (VLOOKUP)"
   ]
  },
  {
   "cell_type": "code",
   "execution_count": null,
   "metadata": {},
   "outputs": [],
   "source": []
  },
  {
   "cell_type": "markdown",
   "metadata": {},
   "source": [
    "### Export Files"
   ]
  },
  {
   "cell_type": "code",
   "execution_count": 5,
   "metadata": {},
   "outputs": [],
   "source": [
    "## Export the \"Four arithmetic operations\" columns\n",
    "## Export the \"Functions Dataframe\" "
   ]
  },
  {
   "cell_type": "markdown",
   "metadata": {},
   "source": [
    "### Pivot Table"
   ]
  },
  {
   "cell_type": "code",
   "execution_count": 6,
   "metadata": {},
   "outputs": [],
   "source": [
    "## Make Pivot table by country, year (week), value: sales, price"
   ]
  },
  {
   "cell_type": "markdown",
   "metadata": {},
   "source": [
    "### Tables by categories"
   ]
  },
  {
   "cell_type": "code",
   "execution_count": 7,
   "metadata": {},
   "outputs": [],
   "source": [
    "## Create tables by country, store_num, and year"
   ]
  },
  {
   "cell_type": "markdown",
   "metadata": {},
   "source": [
    "### Graphs"
   ]
  },
  {
   "cell_type": "code",
   "execution_count": 8,
   "metadata": {},
   "outputs": [],
   "source": [
    "## bar graph\n",
    "## line graph (time)\n",
    "## pie chart\n",
    "## boxplot (sales,  price)\n",
    "## mix graph (bar + line)"
   ]
  },
  {
   "cell_type": "markdown",
   "metadata": {},
   "source": [
    "### Appliable Software"
   ]
  },
  {
   "cell_type": "code",
   "execution_count": 9,
   "metadata": {},
   "outputs": [],
   "source": [
    "## inputing this file in, output will be the two exported files"
   ]
  },
  {
   "cell_type": "code",
   "execution_count": null,
   "metadata": {},
   "outputs": [],
   "source": []
  }
 ],
 "metadata": {
  "interpreter": {
   "hash": "dbefb8df6b02da65c90af1358b8218a3900f4b4d7c2164e0deb6e51ab9f6f5b7"
  },
  "kernelspec": {
   "display_name": "Python 3.7.11 64-bit ('base': conda)",
   "language": "python",
   "name": "python3"
  },
  "language_info": {
   "codemirror_mode": {
    "name": "ipython",
    "version": 3
   },
   "file_extension": ".py",
   "mimetype": "text/x-python",
   "name": "python",
   "nbconvert_exporter": "python",
   "pygments_lexer": "ipython3",
   "version": "3.7.11"
  },
  "orig_nbformat": 4
 },
 "nbformat": 4,
 "nbformat_minor": 2
}
